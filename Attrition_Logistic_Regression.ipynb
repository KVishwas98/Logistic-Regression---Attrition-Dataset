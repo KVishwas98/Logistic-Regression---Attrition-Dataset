{
 "cells": [
  {
   "cell_type": "markdown",
   "id": "6d5760ff",
   "metadata": {},
   "source": [
    "# Attrition Dataset"
   ]
  },
  {
   "cell_type": "markdown",
   "id": "1e4ecc3f",
   "metadata": {},
   "source": [
    "### Employee attrition is the gradual reduction in employee numbers. \n",
    "### Employee attrition happens when the size of your workforce diminishes over time. \n",
    "### This means that employees are leaving faster than they are hired. \n",
    "### Employee attrition happens when employees retire, resign, or simply aren't replaced."
   ]
  },
  {
   "cell_type": "markdown",
   "id": "9249f6fe",
   "metadata": {},
   "source": [
    "### This is the critical condition for the company, so to avoid unforeseen circumstances.\n",
    "### this model will help them create a future based plan to save thier company from getting early notification of employee leaving condition. \n",
    "### however, they could either retain their employees or start hiring new."
   ]
  },
  {
   "cell_type": "code",
   "execution_count": 7,
   "id": "1cc4678b",
   "metadata": {},
   "outputs": [],
   "source": [
    "# importing all the necessary libraries\n",
    "\n",
    "import numpy as np  # numeric Manipulation and numepric operation\n",
    "import pandas as pd  # data manipulation and EDA part\n",
    "import matplotlib.pyplot as plt  # visualize the result\n",
    "import seaborn as sns  # scintific numeric manipulation and visualization"
   ]
  },
  {
   "cell_type": "code",
   "execution_count": 8,
   "id": "6899172e",
   "metadata": {},
   "outputs": [],
   "source": [
    "import os # to get the operating system's path"
   ]
  },
  {
   "cell_type": "code",
   "execution_count": 9,
   "id": "b3a6fed8",
   "metadata": {},
   "outputs": [],
   "source": [
    "os.chdir(\"C:/Users/vishw/OneDrive/Documents/Imarticus/Python/Machine Learning\")"
   ]
  },
  {
   "cell_type": "code",
   "execution_count": 10,
   "id": "11a36d72",
   "metadata": {},
   "outputs": [],
   "source": [
    "df = pd.read_csv(\"Attrition.csv\")"
   ]
  },
  {
   "cell_type": "code",
   "execution_count": 11,
   "id": "00f424d8",
   "metadata": {},
   "outputs": [
    {
     "data": {
      "text/html": [
       "<div>\n",
       "<style scoped>\n",
       "    .dataframe tbody tr th:only-of-type {\n",
       "        vertical-align: middle;\n",
       "    }\n",
       "\n",
       "    .dataframe tbody tr th {\n",
       "        vertical-align: top;\n",
       "    }\n",
       "\n",
       "    .dataframe thead th {\n",
       "        text-align: right;\n",
       "    }\n",
       "</style>\n",
       "<table border=\"1\" class=\"dataframe\">\n",
       "  <thead>\n",
       "    <tr style=\"text-align: right;\">\n",
       "      <th></th>\n",
       "      <th>Age</th>\n",
       "      <th>BusinessTravel</th>\n",
       "      <th>DailyRate</th>\n",
       "      <th>Department</th>\n",
       "      <th>DistanceFromHome</th>\n",
       "      <th>Education</th>\n",
       "      <th>EducationField</th>\n",
       "      <th>EmployeeCount</th>\n",
       "      <th>EmployeeNumber</th>\n",
       "      <th>EnvironmentSatisfaction</th>\n",
       "      <th>...</th>\n",
       "      <th>StandardHours</th>\n",
       "      <th>StockOptionLevel</th>\n",
       "      <th>TotalWorkingYears</th>\n",
       "      <th>TrainingTimesLastYear</th>\n",
       "      <th>WorkLifeBalance</th>\n",
       "      <th>YearsAtCompany</th>\n",
       "      <th>YearsInCurrentRole</th>\n",
       "      <th>YearsSinceLastPromotion</th>\n",
       "      <th>YearsWithCurrManager</th>\n",
       "      <th>Attrition</th>\n",
       "    </tr>\n",
       "  </thead>\n",
       "  <tbody>\n",
       "    <tr>\n",
       "      <th>0</th>\n",
       "      <td>41</td>\n",
       "      <td>Travel_Rarely</td>\n",
       "      <td>1102</td>\n",
       "      <td>Sales</td>\n",
       "      <td>1</td>\n",
       "      <td>2</td>\n",
       "      <td>Life Sciences</td>\n",
       "      <td>1</td>\n",
       "      <td>1</td>\n",
       "      <td>2</td>\n",
       "      <td>...</td>\n",
       "      <td>80</td>\n",
       "      <td>0</td>\n",
       "      <td>8</td>\n",
       "      <td>0</td>\n",
       "      <td>1</td>\n",
       "      <td>6</td>\n",
       "      <td>4</td>\n",
       "      <td>0</td>\n",
       "      <td>5</td>\n",
       "      <td>Yes</td>\n",
       "    </tr>\n",
       "    <tr>\n",
       "      <th>1</th>\n",
       "      <td>49</td>\n",
       "      <td>Travel_Frequently</td>\n",
       "      <td>279</td>\n",
       "      <td>Research &amp; Development</td>\n",
       "      <td>8</td>\n",
       "      <td>1</td>\n",
       "      <td>Life Sciences</td>\n",
       "      <td>1</td>\n",
       "      <td>2</td>\n",
       "      <td>3</td>\n",
       "      <td>...</td>\n",
       "      <td>80</td>\n",
       "      <td>1</td>\n",
       "      <td>10</td>\n",
       "      <td>3</td>\n",
       "      <td>3</td>\n",
       "      <td>10</td>\n",
       "      <td>7</td>\n",
       "      <td>1</td>\n",
       "      <td>7</td>\n",
       "      <td>No</td>\n",
       "    </tr>\n",
       "    <tr>\n",
       "      <th>2</th>\n",
       "      <td>37</td>\n",
       "      <td>Travel_Rarely</td>\n",
       "      <td>1373</td>\n",
       "      <td>Research &amp; Development</td>\n",
       "      <td>2</td>\n",
       "      <td>2</td>\n",
       "      <td>Other</td>\n",
       "      <td>1</td>\n",
       "      <td>4</td>\n",
       "      <td>4</td>\n",
       "      <td>...</td>\n",
       "      <td>80</td>\n",
       "      <td>0</td>\n",
       "      <td>7</td>\n",
       "      <td>3</td>\n",
       "      <td>3</td>\n",
       "      <td>0</td>\n",
       "      <td>0</td>\n",
       "      <td>0</td>\n",
       "      <td>0</td>\n",
       "      <td>Yes</td>\n",
       "    </tr>\n",
       "    <tr>\n",
       "      <th>3</th>\n",
       "      <td>33</td>\n",
       "      <td>Travel_Frequently</td>\n",
       "      <td>1392</td>\n",
       "      <td>Research &amp; Development</td>\n",
       "      <td>3</td>\n",
       "      <td>4</td>\n",
       "      <td>Life Sciences</td>\n",
       "      <td>1</td>\n",
       "      <td>5</td>\n",
       "      <td>4</td>\n",
       "      <td>...</td>\n",
       "      <td>80</td>\n",
       "      <td>0</td>\n",
       "      <td>8</td>\n",
       "      <td>3</td>\n",
       "      <td>3</td>\n",
       "      <td>8</td>\n",
       "      <td>7</td>\n",
       "      <td>3</td>\n",
       "      <td>0</td>\n",
       "      <td>No</td>\n",
       "    </tr>\n",
       "    <tr>\n",
       "      <th>4</th>\n",
       "      <td>27</td>\n",
       "      <td>Travel_Rarely</td>\n",
       "      <td>591</td>\n",
       "      <td>Research &amp; Development</td>\n",
       "      <td>2</td>\n",
       "      <td>1</td>\n",
       "      <td>Medical</td>\n",
       "      <td>1</td>\n",
       "      <td>7</td>\n",
       "      <td>1</td>\n",
       "      <td>...</td>\n",
       "      <td>80</td>\n",
       "      <td>1</td>\n",
       "      <td>6</td>\n",
       "      <td>3</td>\n",
       "      <td>3</td>\n",
       "      <td>2</td>\n",
       "      <td>2</td>\n",
       "      <td>2</td>\n",
       "      <td>2</td>\n",
       "      <td>No</td>\n",
       "    </tr>\n",
       "    <tr>\n",
       "      <th>...</th>\n",
       "      <td>...</td>\n",
       "      <td>...</td>\n",
       "      <td>...</td>\n",
       "      <td>...</td>\n",
       "      <td>...</td>\n",
       "      <td>...</td>\n",
       "      <td>...</td>\n",
       "      <td>...</td>\n",
       "      <td>...</td>\n",
       "      <td>...</td>\n",
       "      <td>...</td>\n",
       "      <td>...</td>\n",
       "      <td>...</td>\n",
       "      <td>...</td>\n",
       "      <td>...</td>\n",
       "      <td>...</td>\n",
       "      <td>...</td>\n",
       "      <td>...</td>\n",
       "      <td>...</td>\n",
       "      <td>...</td>\n",
       "      <td>...</td>\n",
       "    </tr>\n",
       "    <tr>\n",
       "      <th>1465</th>\n",
       "      <td>36</td>\n",
       "      <td>Travel_Frequently</td>\n",
       "      <td>884</td>\n",
       "      <td>Research &amp; Development</td>\n",
       "      <td>23</td>\n",
       "      <td>2</td>\n",
       "      <td>Medical</td>\n",
       "      <td>1</td>\n",
       "      <td>2061</td>\n",
       "      <td>3</td>\n",
       "      <td>...</td>\n",
       "      <td>80</td>\n",
       "      <td>1</td>\n",
       "      <td>17</td>\n",
       "      <td>3</td>\n",
       "      <td>3</td>\n",
       "      <td>5</td>\n",
       "      <td>2</td>\n",
       "      <td>0</td>\n",
       "      <td>3</td>\n",
       "      <td>No</td>\n",
       "    </tr>\n",
       "    <tr>\n",
       "      <th>1466</th>\n",
       "      <td>39</td>\n",
       "      <td>Travel_Rarely</td>\n",
       "      <td>613</td>\n",
       "      <td>Research &amp; Development</td>\n",
       "      <td>6</td>\n",
       "      <td>1</td>\n",
       "      <td>Medical</td>\n",
       "      <td>1</td>\n",
       "      <td>2062</td>\n",
       "      <td>4</td>\n",
       "      <td>...</td>\n",
       "      <td>80</td>\n",
       "      <td>1</td>\n",
       "      <td>9</td>\n",
       "      <td>5</td>\n",
       "      <td>3</td>\n",
       "      <td>7</td>\n",
       "      <td>7</td>\n",
       "      <td>1</td>\n",
       "      <td>7</td>\n",
       "      <td>No</td>\n",
       "    </tr>\n",
       "    <tr>\n",
       "      <th>1467</th>\n",
       "      <td>27</td>\n",
       "      <td>Travel_Rarely</td>\n",
       "      <td>155</td>\n",
       "      <td>Research &amp; Development</td>\n",
       "      <td>4</td>\n",
       "      <td>3</td>\n",
       "      <td>Life Sciences</td>\n",
       "      <td>1</td>\n",
       "      <td>2064</td>\n",
       "      <td>2</td>\n",
       "      <td>...</td>\n",
       "      <td>80</td>\n",
       "      <td>1</td>\n",
       "      <td>6</td>\n",
       "      <td>0</td>\n",
       "      <td>3</td>\n",
       "      <td>6</td>\n",
       "      <td>2</td>\n",
       "      <td>0</td>\n",
       "      <td>3</td>\n",
       "      <td>No</td>\n",
       "    </tr>\n",
       "    <tr>\n",
       "      <th>1468</th>\n",
       "      <td>49</td>\n",
       "      <td>Travel_Frequently</td>\n",
       "      <td>1023</td>\n",
       "      <td>Sales</td>\n",
       "      <td>2</td>\n",
       "      <td>3</td>\n",
       "      <td>Medical</td>\n",
       "      <td>1</td>\n",
       "      <td>2065</td>\n",
       "      <td>4</td>\n",
       "      <td>...</td>\n",
       "      <td>80</td>\n",
       "      <td>0</td>\n",
       "      <td>17</td>\n",
       "      <td>3</td>\n",
       "      <td>2</td>\n",
       "      <td>9</td>\n",
       "      <td>6</td>\n",
       "      <td>0</td>\n",
       "      <td>8</td>\n",
       "      <td>No</td>\n",
       "    </tr>\n",
       "    <tr>\n",
       "      <th>1469</th>\n",
       "      <td>34</td>\n",
       "      <td>Travel_Rarely</td>\n",
       "      <td>628</td>\n",
       "      <td>Research &amp; Development</td>\n",
       "      <td>8</td>\n",
       "      <td>3</td>\n",
       "      <td>Medical</td>\n",
       "      <td>1</td>\n",
       "      <td>2068</td>\n",
       "      <td>2</td>\n",
       "      <td>...</td>\n",
       "      <td>80</td>\n",
       "      <td>0</td>\n",
       "      <td>6</td>\n",
       "      <td>3</td>\n",
       "      <td>4</td>\n",
       "      <td>4</td>\n",
       "      <td>3</td>\n",
       "      <td>1</td>\n",
       "      <td>2</td>\n",
       "      <td>No</td>\n",
       "    </tr>\n",
       "  </tbody>\n",
       "</table>\n",
       "<p>1470 rows × 35 columns</p>\n",
       "</div>"
      ],
      "text/plain": [
       "      Age     BusinessTravel  DailyRate              Department  \\\n",
       "0      41      Travel_Rarely       1102                   Sales   \n",
       "1      49  Travel_Frequently        279  Research & Development   \n",
       "2      37      Travel_Rarely       1373  Research & Development   \n",
       "3      33  Travel_Frequently       1392  Research & Development   \n",
       "4      27      Travel_Rarely        591  Research & Development   \n",
       "...   ...                ...        ...                     ...   \n",
       "1465   36  Travel_Frequently        884  Research & Development   \n",
       "1466   39      Travel_Rarely        613  Research & Development   \n",
       "1467   27      Travel_Rarely        155  Research & Development   \n",
       "1468   49  Travel_Frequently       1023                   Sales   \n",
       "1469   34      Travel_Rarely        628  Research & Development   \n",
       "\n",
       "      DistanceFromHome  Education EducationField  EmployeeCount  \\\n",
       "0                    1          2  Life Sciences              1   \n",
       "1                    8          1  Life Sciences              1   \n",
       "2                    2          2          Other              1   \n",
       "3                    3          4  Life Sciences              1   \n",
       "4                    2          1        Medical              1   \n",
       "...                ...        ...            ...            ...   \n",
       "1465                23          2        Medical              1   \n",
       "1466                 6          1        Medical              1   \n",
       "1467                 4          3  Life Sciences              1   \n",
       "1468                 2          3        Medical              1   \n",
       "1469                 8          3        Medical              1   \n",
       "\n",
       "      EmployeeNumber  EnvironmentSatisfaction  ... StandardHours  \\\n",
       "0                  1                        2  ...            80   \n",
       "1                  2                        3  ...            80   \n",
       "2                  4                        4  ...            80   \n",
       "3                  5                        4  ...            80   \n",
       "4                  7                        1  ...            80   \n",
       "...              ...                      ...  ...           ...   \n",
       "1465            2061                        3  ...            80   \n",
       "1466            2062                        4  ...            80   \n",
       "1467            2064                        2  ...            80   \n",
       "1468            2065                        4  ...            80   \n",
       "1469            2068                        2  ...            80   \n",
       "\n",
       "      StockOptionLevel  TotalWorkingYears  TrainingTimesLastYear  \\\n",
       "0                    0                  8                      0   \n",
       "1                    1                 10                      3   \n",
       "2                    0                  7                      3   \n",
       "3                    0                  8                      3   \n",
       "4                    1                  6                      3   \n",
       "...                ...                ...                    ...   \n",
       "1465                 1                 17                      3   \n",
       "1466                 1                  9                      5   \n",
       "1467                 1                  6                      0   \n",
       "1468                 0                 17                      3   \n",
       "1469                 0                  6                      3   \n",
       "\n",
       "     WorkLifeBalance  YearsAtCompany YearsInCurrentRole  \\\n",
       "0                  1               6                  4   \n",
       "1                  3              10                  7   \n",
       "2                  3               0                  0   \n",
       "3                  3               8                  7   \n",
       "4                  3               2                  2   \n",
       "...              ...             ...                ...   \n",
       "1465               3               5                  2   \n",
       "1466               3               7                  7   \n",
       "1467               3               6                  2   \n",
       "1468               2               9                  6   \n",
       "1469               4               4                  3   \n",
       "\n",
       "      YearsSinceLastPromotion  YearsWithCurrManager  Attrition  \n",
       "0                           0                     5        Yes  \n",
       "1                           1                     7         No  \n",
       "2                           0                     0        Yes  \n",
       "3                           3                     0         No  \n",
       "4                           2                     2         No  \n",
       "...                       ...                   ...        ...  \n",
       "1465                        0                     3         No  \n",
       "1466                        1                     7         No  \n",
       "1467                        0                     3         No  \n",
       "1468                        0                     8         No  \n",
       "1469                        1                     2         No  \n",
       "\n",
       "[1470 rows x 35 columns]"
      ]
     },
     "execution_count": 11,
     "metadata": {},
     "output_type": "execute_result"
    }
   ],
   "source": [
    "df   # print the dataset "
   ]
  },
  {
   "cell_type": "code",
   "execution_count": 13,
   "id": "1bde01bb",
   "metadata": {},
   "outputs": [
    {
     "data": {
      "text/plain": [
       "Index(['Age', 'BusinessTravel', 'DailyRate', 'Department', 'DistanceFromHome',\n",
       "       'Education', 'EducationField', 'EmployeeCount', 'EmployeeNumber',\n",
       "       'EnvironmentSatisfaction', 'Gender', 'HourlyRate', 'JobInvolvement',\n",
       "       'JobLevel', 'JobRole', 'JobSatisfaction', 'MaritalStatus',\n",
       "       'MonthlyIncome', 'MonthlyRate', 'NumCompaniesWorked', 'Over18',\n",
       "       'OverTime', 'PercentSalaryHike', 'PerformanceRating',\n",
       "       'RelationshipSatisfaction', 'StandardHours', 'StockOptionLevel',\n",
       "       'TotalWorkingYears', 'TrainingTimesLastYear', 'WorkLifeBalance',\n",
       "       'YearsAtCompany', 'YearsInCurrentRole', 'YearsSinceLastPromotion',\n",
       "       'YearsWithCurrManager', 'Attrition'],\n",
       "      dtype='object')"
      ]
     },
     "execution_count": 13,
     "metadata": {},
     "output_type": "execute_result"
    }
   ],
   "source": [
    "df.columns  # print the total columns"
   ]
  },
  {
   "cell_type": "code",
   "execution_count": 6,
   "id": "4c9e005c",
   "metadata": {},
   "outputs": [],
   "source": [
    "\n",
    "df.drop([\"EmployeeNumber\"], axis=1, inplace =True)   # drop the 'EmployeeNumber' since this will not contribute to the prediction"
   ]
  },
  {
   "cell_type": "code",
   "execution_count": 45,
   "id": "1f70e181",
   "metadata": {},
   "outputs": [],
   "source": [
    "df.drop([\"EmployeeCount\"], axis=1, inplace=True)  # drop the 'EmployeeCount' since this will not contribute to the prediction"
   ]
  },
  {
   "cell_type": "code",
   "execution_count": 46,
   "id": "14a6aadb",
   "metadata": {},
   "outputs": [],
   "source": [
    "from sklearn.preprocessing import LabelEncoder  #  converting the labels into a numeric form so as to convert them into the machine-readable form.\n",
    "le = LabelEncoder()      "
   ]
  },
  {
   "cell_type": "code",
   "execution_count": 47,
   "id": "9aa781e6",
   "metadata": {},
   "outputs": [],
   "source": [
    "# compute the mean and std operation and perform scaling on the object columns.\n",
    "\n",
    "df[df.select_dtypes(include=[\"object\"]).columns] = df[df.select_dtypes(include=[\"object\"]).columns].apply(le.fit_transform)"
   ]
  },
  {
   "cell_type": "code",
   "execution_count": 48,
   "id": "a089a31f",
   "metadata": {},
   "outputs": [
    {
     "data": {
      "text/html": [
       "<div>\n",
       "<style scoped>\n",
       "    .dataframe tbody tr th:only-of-type {\n",
       "        vertical-align: middle;\n",
       "    }\n",
       "\n",
       "    .dataframe tbody tr th {\n",
       "        vertical-align: top;\n",
       "    }\n",
       "\n",
       "    .dataframe thead th {\n",
       "        text-align: right;\n",
       "    }\n",
       "</style>\n",
       "<table border=\"1\" class=\"dataframe\">\n",
       "  <thead>\n",
       "    <tr style=\"text-align: right;\">\n",
       "      <th></th>\n",
       "      <th>Age</th>\n",
       "      <th>BusinessTravel</th>\n",
       "      <th>DailyRate</th>\n",
       "      <th>Department</th>\n",
       "      <th>DistanceFromHome</th>\n",
       "      <th>Education</th>\n",
       "      <th>EducationField</th>\n",
       "      <th>EnvironmentSatisfaction</th>\n",
       "      <th>Gender</th>\n",
       "      <th>HourlyRate</th>\n",
       "      <th>...</th>\n",
       "      <th>StandardHours</th>\n",
       "      <th>StockOptionLevel</th>\n",
       "      <th>TotalWorkingYears</th>\n",
       "      <th>TrainingTimesLastYear</th>\n",
       "      <th>WorkLifeBalance</th>\n",
       "      <th>YearsAtCompany</th>\n",
       "      <th>YearsInCurrentRole</th>\n",
       "      <th>YearsSinceLastPromotion</th>\n",
       "      <th>YearsWithCurrManager</th>\n",
       "      <th>Attrition</th>\n",
       "    </tr>\n",
       "  </thead>\n",
       "  <tbody>\n",
       "    <tr>\n",
       "      <th>0</th>\n",
       "      <td>41</td>\n",
       "      <td>2</td>\n",
       "      <td>1102</td>\n",
       "      <td>2</td>\n",
       "      <td>1</td>\n",
       "      <td>2</td>\n",
       "      <td>1</td>\n",
       "      <td>2</td>\n",
       "      <td>0</td>\n",
       "      <td>94</td>\n",
       "      <td>...</td>\n",
       "      <td>80</td>\n",
       "      <td>0</td>\n",
       "      <td>8</td>\n",
       "      <td>0</td>\n",
       "      <td>1</td>\n",
       "      <td>6</td>\n",
       "      <td>4</td>\n",
       "      <td>0</td>\n",
       "      <td>5</td>\n",
       "      <td>1</td>\n",
       "    </tr>\n",
       "    <tr>\n",
       "      <th>1</th>\n",
       "      <td>49</td>\n",
       "      <td>1</td>\n",
       "      <td>279</td>\n",
       "      <td>1</td>\n",
       "      <td>8</td>\n",
       "      <td>1</td>\n",
       "      <td>1</td>\n",
       "      <td>3</td>\n",
       "      <td>1</td>\n",
       "      <td>61</td>\n",
       "      <td>...</td>\n",
       "      <td>80</td>\n",
       "      <td>1</td>\n",
       "      <td>10</td>\n",
       "      <td>3</td>\n",
       "      <td>3</td>\n",
       "      <td>10</td>\n",
       "      <td>7</td>\n",
       "      <td>1</td>\n",
       "      <td>7</td>\n",
       "      <td>0</td>\n",
       "    </tr>\n",
       "    <tr>\n",
       "      <th>2</th>\n",
       "      <td>37</td>\n",
       "      <td>2</td>\n",
       "      <td>1373</td>\n",
       "      <td>1</td>\n",
       "      <td>2</td>\n",
       "      <td>2</td>\n",
       "      <td>4</td>\n",
       "      <td>4</td>\n",
       "      <td>1</td>\n",
       "      <td>92</td>\n",
       "      <td>...</td>\n",
       "      <td>80</td>\n",
       "      <td>0</td>\n",
       "      <td>7</td>\n",
       "      <td>3</td>\n",
       "      <td>3</td>\n",
       "      <td>0</td>\n",
       "      <td>0</td>\n",
       "      <td>0</td>\n",
       "      <td>0</td>\n",
       "      <td>1</td>\n",
       "    </tr>\n",
       "    <tr>\n",
       "      <th>3</th>\n",
       "      <td>33</td>\n",
       "      <td>1</td>\n",
       "      <td>1392</td>\n",
       "      <td>1</td>\n",
       "      <td>3</td>\n",
       "      <td>4</td>\n",
       "      <td>1</td>\n",
       "      <td>4</td>\n",
       "      <td>0</td>\n",
       "      <td>56</td>\n",
       "      <td>...</td>\n",
       "      <td>80</td>\n",
       "      <td>0</td>\n",
       "      <td>8</td>\n",
       "      <td>3</td>\n",
       "      <td>3</td>\n",
       "      <td>8</td>\n",
       "      <td>7</td>\n",
       "      <td>3</td>\n",
       "      <td>0</td>\n",
       "      <td>0</td>\n",
       "    </tr>\n",
       "    <tr>\n",
       "      <th>4</th>\n",
       "      <td>27</td>\n",
       "      <td>2</td>\n",
       "      <td>591</td>\n",
       "      <td>1</td>\n",
       "      <td>2</td>\n",
       "      <td>1</td>\n",
       "      <td>3</td>\n",
       "      <td>1</td>\n",
       "      <td>1</td>\n",
       "      <td>40</td>\n",
       "      <td>...</td>\n",
       "      <td>80</td>\n",
       "      <td>1</td>\n",
       "      <td>6</td>\n",
       "      <td>3</td>\n",
       "      <td>3</td>\n",
       "      <td>2</td>\n",
       "      <td>2</td>\n",
       "      <td>2</td>\n",
       "      <td>2</td>\n",
       "      <td>0</td>\n",
       "    </tr>\n",
       "  </tbody>\n",
       "</table>\n",
       "<p>5 rows × 33 columns</p>\n",
       "</div>"
      ],
      "text/plain": [
       "   Age  BusinessTravel  DailyRate  Department  DistanceFromHome  Education  \\\n",
       "0   41               2       1102           2                 1          2   \n",
       "1   49               1        279           1                 8          1   \n",
       "2   37               2       1373           1                 2          2   \n",
       "3   33               1       1392           1                 3          4   \n",
       "4   27               2        591           1                 2          1   \n",
       "\n",
       "   EducationField  EnvironmentSatisfaction  Gender  HourlyRate  ...  \\\n",
       "0               1                        2       0          94  ...   \n",
       "1               1                        3       1          61  ...   \n",
       "2               4                        4       1          92  ...   \n",
       "3               1                        4       0          56  ...   \n",
       "4               3                        1       1          40  ...   \n",
       "\n",
       "   StandardHours  StockOptionLevel  TotalWorkingYears  TrainingTimesLastYear  \\\n",
       "0             80                 0                  8                      0   \n",
       "1             80                 1                 10                      3   \n",
       "2             80                 0                  7                      3   \n",
       "3             80                 0                  8                      3   \n",
       "4             80                 1                  6                      3   \n",
       "\n",
       "   WorkLifeBalance  YearsAtCompany  YearsInCurrentRole  \\\n",
       "0                1               6                   4   \n",
       "1                3              10                   7   \n",
       "2                3               0                   0   \n",
       "3                3               8                   7   \n",
       "4                3               2                   2   \n",
       "\n",
       "   YearsSinceLastPromotion  YearsWithCurrManager  Attrition  \n",
       "0                        0                     5          1  \n",
       "1                        1                     7          0  \n",
       "2                        0                     0          1  \n",
       "3                        3                     0          0  \n",
       "4                        2                     2          0  \n",
       "\n",
       "[5 rows x 33 columns]"
      ]
     },
     "execution_count": 48,
     "metadata": {},
     "output_type": "execute_result"
    }
   ],
   "source": [
    "df.head()"
   ]
  },
  {
   "cell_type": "code",
   "execution_count": 49,
   "id": "6062bdc0",
   "metadata": {},
   "outputs": [
    {
     "data": {
      "text/plain": [
       "1    882\n",
       "0    588\n",
       "Name: Gender, dtype: int64"
      ]
     },
     "execution_count": 49,
     "metadata": {},
     "output_type": "execute_result"
    }
   ],
   "source": [
    "df.Gender.value_counts()  # total number of dependant rows counts per 0 and 1"
   ]
  },
  {
   "cell_type": "code",
   "execution_count": 50,
   "id": "3c7d8ab7",
   "metadata": {},
   "outputs": [],
   "source": [
    "from sklearn.model_selection import train_test_split  # importing the train_test_split"
   ]
  },
  {
   "cell_type": "code",
   "execution_count": 51,
   "id": "5c6b89d6",
   "metadata": {},
   "outputs": [],
   "source": [
    "df_train, df_test = train_test_split(df, test_size = .2)  # splitting  the data into train, test"
   ]
  },
  {
   "cell_type": "code",
   "execution_count": 94,
   "id": "f5b27f5f",
   "metadata": {},
   "outputs": [],
   "source": [
    "# to increase the FPR we are concatenating more samples in the data\n",
    "#df1 =  df_train[df_train.Attrition  == 1]\n",
    "#df_train = pd.concat([df_train  , df1, df1, df1, df1, df1])\n"
   ]
  },
  {
   "cell_type": "code",
   "execution_count": 110,
   "id": "dde174aa",
   "metadata": {},
   "outputs": [
    {
     "data": {
      "text/plain": [
       "No     1233\n",
       "Yes     237\n",
       "Name: Attrition, dtype: int64"
      ]
     },
     "execution_count": 110,
     "metadata": {},
     "output_type": "execute_result"
    }
   ],
   "source": [
    "df.Attrition.value_counts()   # dummy data added for class 0"
   ]
  },
  {
   "cell_type": "code",
   "execution_count": 95,
   "id": "e2b142f3",
   "metadata": {},
   "outputs": [],
   "source": [
    "# splitting data into train_x and Train_y\n",
    "df_train_x = df_train.iloc[:, 0: -1]   #  basically all the independant variables will be in train_x\n",
    "df_train_y = df_train.iloc[:, -1]   # and dependant will be in train_y\n"
   ]
  },
  {
   "cell_type": "code",
   "execution_count": 96,
   "id": "580668f9",
   "metadata": {},
   "outputs": [],
   "source": [
    "# splitting data into test_x and Test_y\n",
    "\n",
    "df_test_x = df_test.iloc[:, 0: -1] #  basically all the independant variables will be in test_x\n",
    "df_test_y = df_test.iloc[:, -1]  # # and dependant will be in test_y"
   ]
  },
  {
   "cell_type": "code",
   "execution_count": 97,
   "id": "8d4aef6a",
   "metadata": {},
   "outputs": [],
   "source": [
    "from sklearn.linear_model import LogisticRegression  # importing the logistic regression from sklearn library\n",
    "logreg = LogisticRegression()"
   ]
  },
  {
   "cell_type": "code",
   "execution_count": 98,
   "id": "e9120c15",
   "metadata": {},
   "outputs": [
    {
     "name": "stderr",
     "output_type": "stream",
     "text": [
      "C:\\Users\\vishw\\anaconda3\\lib\\site-packages\\sklearn\\linear_model\\_logistic.py:763: ConvergenceWarning: lbfgs failed to converge (status=1):\n",
      "STOP: TOTAL NO. of ITERATIONS REACHED LIMIT.\n",
      "\n",
      "Increase the number of iterations (max_iter) or scale the data as shown in:\n",
      "    https://scikit-learn.org/stable/modules/preprocessing.html\n",
      "Please also refer to the documentation for alternative solver options:\n",
      "    https://scikit-learn.org/stable/modules/linear_model.html#logistic-regression\n",
      "  n_iter_i = _check_optimize_result(\n"
     ]
    },
    {
     "data": {
      "text/plain": [
       "LogisticRegression()"
      ]
     },
     "execution_count": 98,
     "metadata": {},
     "output_type": "execute_result"
    }
   ],
   "source": [
    "logreg.fit(df_train_x, df_train_y)   # fit the train model in the logistic regression algorithm"
   ]
  },
  {
   "cell_type": "code",
   "execution_count": 99,
   "id": "b63373ef",
   "metadata": {},
   "outputs": [],
   "source": [
    "pred = logreg.predict(df_test_x)  # to train the model prediction set to the test_x"
   ]
  },
  {
   "cell_type": "code",
   "execution_count": 100,
   "id": "186d43c6",
   "metadata": {},
   "outputs": [],
   "source": [
    "from sklearn.metrics import confusion_matrix   # print the confusion matrix purpose "
   ]
  },
  {
   "cell_type": "code",
   "execution_count": 101,
   "id": "617e4937",
   "metadata": {},
   "outputs": [
    {
     "data": {
      "text/plain": [
       "array([[ 40, 203],\n",
       "       [  3,  48]], dtype=int64)"
      ]
     },
     "execution_count": 101,
     "metadata": {},
     "output_type": "execute_result"
    }
   ],
   "source": [
    "# from left to right actual and top to bottom predicted values\n",
    "\n",
    "conf = confusion_matrix(df_test_y, pred)\n",
    "conf"
   ]
  },
  {
   "cell_type": "code",
   "execution_count": 102,
   "id": "46d8c91b",
   "metadata": {},
   "outputs": [
    {
     "data": {
      "text/plain": [
       "0.29931972789115646"
      ]
     },
     "execution_count": 102,
     "metadata": {},
     "output_type": "execute_result"
    }
   ],
   "source": [
    "from sklearn.metrics import accuracy_score  # print the accuracy \n",
    "accuracy_score(df_test_y, pred)"
   ]
  },
  {
   "cell_type": "code",
   "execution_count": 103,
   "id": "464d4ac3",
   "metadata": {},
   "outputs": [
    {
     "data": {
      "text/plain": [
       "0.9411764705882353"
      ]
     },
     "execution_count": 103,
     "metadata": {},
     "output_type": "execute_result"
    }
   ],
   "source": [
    "from sklearn.metrics import recall_score   # Print the recall score consist on (TP/TP+FN)\n",
    "recall_score(df_test_y, pred)"
   ]
  },
  {
   "cell_type": "code",
   "execution_count": 104,
   "id": "5a76c4d6",
   "metadata": {},
   "outputs": [
    {
     "data": {
      "text/plain": [
       "0.19123505976095617"
      ]
     },
     "execution_count": 104,
     "metadata": {},
     "output_type": "execute_result"
    }
   ],
   "source": [
    "from sklearn.metrics import precision_score # print the precision score (TP/TP+FP)\n",
    "precision_score(df_test_y, pred)"
   ]
  },
  {
   "cell_type": "code",
   "execution_count": 105,
   "id": "d06790f4",
   "metadata": {},
   "outputs": [
    {
     "data": {
      "text/plain": [
       "0.3178807947019867"
      ]
     },
     "execution_count": 105,
     "metadata": {},
     "output_type": "execute_result"
    }
   ],
   "source": [
    "from sklearn.metrics import f1_score  # harmonic mean f1 score ((2*precision*recall) / precision + recall)\n",
    "f1_score(df_test_y, pred)"
   ]
  },
  {
   "cell_type": "code",
   "execution_count": 106,
   "id": "eb8a9b1f",
   "metadata": {},
   "outputs": [
    {
     "data": {
      "text/plain": [
       "array([1, 0, 1, 0, 0, 1, 1, 0, 1, 1, 0, 1, 1, 0, 1, 0, 1, 1, 1, 1, 1, 1,\n",
       "       1, 1, 1, 1, 1, 1, 1, 0, 1, 1, 0, 1, 1, 1, 1, 1, 1, 0, 1, 0, 1, 1,\n",
       "       1, 1, 1, 1, 1, 1, 1, 1, 0, 1, 0, 1, 1, 0, 1, 1, 1, 1, 1, 1, 1, 0,\n",
       "       0, 1, 1, 0, 1, 1, 1, 1, 1, 1, 1, 1, 1, 1, 1, 1, 1, 0, 0, 1, 1, 1,\n",
       "       1, 1, 0, 0, 1, 0, 1, 1, 1, 1, 0, 1, 1, 1, 1, 0, 0, 1, 1, 1, 1, 1,\n",
       "       1, 1, 1, 1, 1, 1, 1, 1, 1, 1, 1, 1, 1, 1, 1, 1, 1, 1, 0, 1, 1, 0,\n",
       "       1, 1, 1, 1, 1, 1, 1, 1, 1, 1, 1, 1, 1, 1, 1, 1, 1, 0, 1, 1, 1, 1,\n",
       "       1, 1, 0, 1, 1, 1, 1, 1, 1, 0, 1, 1, 1, 1, 1, 1, 1, 1, 1, 1, 1, 0,\n",
       "       0, 1, 1, 1, 1, 1, 0, 1, 1, 1, 1, 1, 1, 1, 1, 1, 1, 1, 1, 0, 1, 1,\n",
       "       1, 1, 1, 1, 1, 1, 1, 1, 1, 1, 1, 0, 1, 1, 1, 1, 1, 0, 1, 1, 1, 1,\n",
       "       1, 0, 1, 1, 1, 1, 1, 1, 1, 1, 1, 1, 1, 1, 1, 1, 1, 1, 1, 1, 1, 0,\n",
       "       1, 1, 1, 1, 1, 1, 1, 1, 1, 1, 1, 1, 1, 1, 0, 1, 1, 1, 1, 1, 1, 1,\n",
       "       1, 1, 1, 1, 1, 1, 1, 1, 1, 0, 1, 1, 1, 1, 0, 1, 1, 1, 1, 1, 1, 1,\n",
       "       1, 1, 1, 1, 0, 1, 1, 0])"
      ]
     },
     "execution_count": 106,
     "metadata": {},
     "output_type": "execute_result"
    }
   ],
   "source": [
    "pred = logreg.predict(df_test_x)   #print the prediction\n",
    "\n",
    "pred"
   ]
  },
  {
   "cell_type": "code",
   "execution_count": 107,
   "id": "44816c35",
   "metadata": {},
   "outputs": [
    {
     "data": {
      "text/plain": [
       "array([[0.31215239, 0.68784761],\n",
       "       [0.54187378, 0.45812622],\n",
       "       [0.33041373, 0.66958627],\n",
       "       [0.64306673, 0.35693327],\n",
       "       [0.57652277, 0.42347723],\n",
       "       [0.20375982, 0.79624018],\n",
       "       [0.28898676, 0.71101324],\n",
       "       [0.63592849, 0.36407151],\n",
       "       [0.37202463, 0.62797537],\n",
       "       [0.34628227, 0.65371773],\n",
       "       [0.61150333, 0.38849667],\n",
       "       [0.41787034, 0.58212966],\n",
       "       [0.2719806 , 0.7280194 ],\n",
       "       [0.73339781, 0.26660219],\n",
       "       [0.39256544, 0.60743456],\n",
       "       [0.59774512, 0.40225488],\n",
       "       [0.37307889, 0.62692111],\n",
       "       [0.40301846, 0.59698154],\n",
       "       [0.4105722 , 0.5894278 ],\n",
       "       [0.23150983, 0.76849017],\n",
       "       [0.18202073, 0.81797927],\n",
       "       [0.47426472, 0.52573528],\n",
       "       [0.28876207, 0.71123793],\n",
       "       [0.11773519, 0.88226481],\n",
       "       [0.40110634, 0.59889366],\n",
       "       [0.36703705, 0.63296295],\n",
       "       [0.32821572, 0.67178428],\n",
       "       [0.27846751, 0.72153249],\n",
       "       [0.1986682 , 0.8013318 ],\n",
       "       [0.54936135, 0.45063865],\n",
       "       [0.4220273 , 0.5779727 ],\n",
       "       [0.46918607, 0.53081393],\n",
       "       [0.62984404, 0.37015596],\n",
       "       [0.41893879, 0.58106121],\n",
       "       [0.24481637, 0.75518363],\n",
       "       [0.24902671, 0.75097329],\n",
       "       [0.3621733 , 0.6378267 ],\n",
       "       [0.2945701 , 0.7054299 ],\n",
       "       [0.18723874, 0.81276126],\n",
       "       [0.56363337, 0.43636663],\n",
       "       [0.27162836, 0.72837164],\n",
       "       [0.73996686, 0.26003314],\n",
       "       [0.36793898, 0.63206102],\n",
       "       [0.4117142 , 0.5882858 ],\n",
       "       [0.26241366, 0.73758634],\n",
       "       [0.26049605, 0.73950395],\n",
       "       [0.22323039, 0.77676961],\n",
       "       [0.29104622, 0.70895378],\n",
       "       [0.28901254, 0.71098746],\n",
       "       [0.28732099, 0.71267901],\n",
       "       [0.21321756, 0.78678244],\n",
       "       [0.23680705, 0.76319295],\n",
       "       [0.65554989, 0.34445011],\n",
       "       [0.20520691, 0.79479309],\n",
       "       [0.77260891, 0.22739109],\n",
       "       [0.48779108, 0.51220892],\n",
       "       [0.35486982, 0.64513018],\n",
       "       [0.7367217 , 0.2632783 ],\n",
       "       [0.23970704, 0.76029296],\n",
       "       [0.27733076, 0.72266924],\n",
       "       [0.19756306, 0.80243694],\n",
       "       [0.25455202, 0.74544798],\n",
       "       [0.28378037, 0.71621963],\n",
       "       [0.40143689, 0.59856311],\n",
       "       [0.31206159, 0.68793841],\n",
       "       [0.58560234, 0.41439766],\n",
       "       [0.53722154, 0.46277846],\n",
       "       [0.18188008, 0.81811992],\n",
       "       [0.33779156, 0.66220844],\n",
       "       [0.54487634, 0.45512366],\n",
       "       [0.47404544, 0.52595456],\n",
       "       [0.37275601, 0.62724399],\n",
       "       [0.34510375, 0.65489625],\n",
       "       [0.2132656 , 0.7867344 ],\n",
       "       [0.29862747, 0.70137253],\n",
       "       [0.48324699, 0.51675301],\n",
       "       [0.38867416, 0.61132584],\n",
       "       [0.19735191, 0.80264809],\n",
       "       [0.17967964, 0.82032036],\n",
       "       [0.34649209, 0.65350791],\n",
       "       [0.27933866, 0.72066134],\n",
       "       [0.22061734, 0.77938266],\n",
       "       [0.34990541, 0.65009459],\n",
       "       [0.59837837, 0.40162163],\n",
       "       [0.62005239, 0.37994761],\n",
       "       [0.39767484, 0.60232516],\n",
       "       [0.24383503, 0.75616497],\n",
       "       [0.21154213, 0.78845787],\n",
       "       [0.27336398, 0.72663602],\n",
       "       [0.22751702, 0.77248298],\n",
       "       [0.5098089 , 0.4901911 ],\n",
       "       [0.52632937, 0.47367063],\n",
       "       [0.11880745, 0.88119255],\n",
       "       [0.53462103, 0.46537897],\n",
       "       [0.32439036, 0.67560964],\n",
       "       [0.26379819, 0.73620181],\n",
       "       [0.19533909, 0.80466091],\n",
       "       [0.35983349, 0.64016651],\n",
       "       [0.72167614, 0.27832386],\n",
       "       [0.49245282, 0.50754718],\n",
       "       [0.16495031, 0.83504969],\n",
       "       [0.2034793 , 0.7965207 ],\n",
       "       [0.25519847, 0.74480153],\n",
       "       [0.53501731, 0.46498269],\n",
       "       [0.63412193, 0.36587807],\n",
       "       [0.11965218, 0.88034782],\n",
       "       [0.48645531, 0.51354469],\n",
       "       [0.27557378, 0.72442622],\n",
       "       [0.17916119, 0.82083881],\n",
       "       [0.36248537, 0.63751463],\n",
       "       [0.40641433, 0.59358567],\n",
       "       [0.38485209, 0.61514791],\n",
       "       [0.26934035, 0.73065965],\n",
       "       [0.34454707, 0.65545293],\n",
       "       [0.35774848, 0.64225152],\n",
       "       [0.29169983, 0.70830017],\n",
       "       [0.19275882, 0.80724118],\n",
       "       [0.19959981, 0.80040019],\n",
       "       [0.31225466, 0.68774534],\n",
       "       [0.22882218, 0.77117782],\n",
       "       [0.36376967, 0.63623033],\n",
       "       [0.35334171, 0.64665829],\n",
       "       [0.19071434, 0.80928566],\n",
       "       [0.22967371, 0.77032629],\n",
       "       [0.21401239, 0.78598761],\n",
       "       [0.20061831, 0.79938169],\n",
       "       [0.12458511, 0.87541489],\n",
       "       [0.25908818, 0.74091182],\n",
       "       [0.53317549, 0.46682451],\n",
       "       [0.21252581, 0.78747419],\n",
       "       [0.18134569, 0.81865431],\n",
       "       [0.72995287, 0.27004713],\n",
       "       [0.25923177, 0.74076823],\n",
       "       [0.29044979, 0.70955021],\n",
       "       [0.24121023, 0.75878977],\n",
       "       [0.31975331, 0.68024669],\n",
       "       [0.34436307, 0.65563693],\n",
       "       [0.18020605, 0.81979395],\n",
       "       [0.36928707, 0.63071293],\n",
       "       [0.26381322, 0.73618678],\n",
       "       [0.31282502, 0.68717498],\n",
       "       [0.45219552, 0.54780448],\n",
       "       [0.40083434, 0.59916566],\n",
       "       [0.23305723, 0.76694277],\n",
       "       [0.38298913, 0.61701087],\n",
       "       [0.29244719, 0.70755281],\n",
       "       [0.4236348 , 0.5763652 ],\n",
       "       [0.39079308, 0.60920692],\n",
       "       [0.2264316 , 0.7735684 ],\n",
       "       [0.59738619, 0.40261381],\n",
       "       [0.14893064, 0.85106936],\n",
       "       [0.25824245, 0.74175755],\n",
       "       [0.29705577, 0.70294423],\n",
       "       [0.28703654, 0.71296346],\n",
       "       [0.28528104, 0.71471896],\n",
       "       [0.19654838, 0.80345162],\n",
       "       [0.53552381, 0.46447619],\n",
       "       [0.44248981, 0.55751019],\n",
       "       [0.46234409, 0.53765591],\n",
       "       [0.2685634 , 0.7314366 ],\n",
       "       [0.47772623, 0.52227377],\n",
       "       [0.47726425, 0.52273575],\n",
       "       [0.32073366, 0.67926634],\n",
       "       [0.65991736, 0.34008264],\n",
       "       [0.34506361, 0.65493639],\n",
       "       [0.21346276, 0.78653724],\n",
       "       [0.36450317, 0.63549683],\n",
       "       [0.42963158, 0.57036842],\n",
       "       [0.26548232, 0.73451768],\n",
       "       [0.3024336 , 0.6975664 ],\n",
       "       [0.42530453, 0.57469547],\n",
       "       [0.37099069, 0.62900931],\n",
       "       [0.26942194, 0.73057806],\n",
       "       [0.23906905, 0.76093095],\n",
       "       [0.15068057, 0.84931943],\n",
       "       [0.54448586, 0.45551414],\n",
       "       [0.60447019, 0.39552981],\n",
       "       [0.28525736, 0.71474264],\n",
       "       [0.37708896, 0.62291104],\n",
       "       [0.34436955, 0.65563045],\n",
       "       [0.13072369, 0.86927631],\n",
       "       [0.33510543, 0.66489457],\n",
       "       [0.70444335, 0.29555665],\n",
       "       [0.23757665, 0.76242335],\n",
       "       [0.29459114, 0.70540886],\n",
       "       [0.42994915, 0.57005085],\n",
       "       [0.391535  , 0.608465  ],\n",
       "       [0.44046068, 0.55953932],\n",
       "       [0.47127364, 0.52872636],\n",
       "       [0.22790767, 0.77209233],\n",
       "       [0.26373142, 0.73626858],\n",
       "       [0.2403668 , 0.7596332 ],\n",
       "       [0.32925184, 0.67074816],\n",
       "       [0.25783573, 0.74216427],\n",
       "       [0.3991188 , 0.6008812 ],\n",
       "       [0.5198774 , 0.4801226 ],\n",
       "       [0.40346785, 0.59653215],\n",
       "       [0.35359226, 0.64640774],\n",
       "       [0.35412243, 0.64587757],\n",
       "       [0.24362441, 0.75637559],\n",
       "       [0.41834257, 0.58165743],\n",
       "       [0.45911794, 0.54088206],\n",
       "       [0.41294839, 0.58705161],\n",
       "       [0.1981853 , 0.8018147 ],\n",
       "       [0.29530382, 0.70469618],\n",
       "       [0.32355163, 0.67644837],\n",
       "       [0.16304288, 0.83695712],\n",
       "       [0.32237606, 0.67762394],\n",
       "       [0.36227709, 0.63772291],\n",
       "       [0.66348564, 0.33651436],\n",
       "       [0.35368321, 0.64631679],\n",
       "       [0.32480818, 0.67519182],\n",
       "       [0.36330442, 0.63669558],\n",
       "       [0.41785181, 0.58214819],\n",
       "       [0.19570259, 0.80429741],\n",
       "       [0.50185372, 0.49814628],\n",
       "       [0.357061  , 0.642939  ],\n",
       "       [0.14038444, 0.85961556],\n",
       "       [0.30676602, 0.69323398],\n",
       "       [0.14147955, 0.85852045],\n",
       "       [0.2271987 , 0.7728013 ],\n",
       "       [0.51641808, 0.48358192],\n",
       "       [0.21760476, 0.78239524],\n",
       "       [0.27294511, 0.72705489],\n",
       "       [0.19261293, 0.80738707],\n",
       "       [0.38560297, 0.61439703],\n",
       "       [0.26665548, 0.73334452],\n",
       "       [0.32369368, 0.67630632],\n",
       "       [0.26160602, 0.73839398],\n",
       "       [0.35731124, 0.64268876],\n",
       "       [0.23783018, 0.76216982],\n",
       "       [0.46789447, 0.53210553],\n",
       "       [0.17769932, 0.82230068],\n",
       "       [0.23514918, 0.76485082],\n",
       "       [0.27350677, 0.72649323],\n",
       "       [0.24925823, 0.75074177],\n",
       "       [0.12588501, 0.87411499],\n",
       "       [0.18862323, 0.81137677],\n",
       "       [0.29147446, 0.70852554],\n",
       "       [0.44803237, 0.55196763],\n",
       "       [0.19080103, 0.80919897],\n",
       "       [0.74460016, 0.25539984],\n",
       "       [0.39089174, 0.60910826],\n",
       "       [0.17664761, 0.82335239],\n",
       "       [0.36869136, 0.63130864],\n",
       "       [0.33367257, 0.66632743],\n",
       "       [0.30892412, 0.69107588],\n",
       "       [0.21901893, 0.78098107],\n",
       "       [0.39911576, 0.60088424],\n",
       "       [0.46304504, 0.53695496],\n",
       "       [0.19742316, 0.80257684],\n",
       "       [0.35325522, 0.64674478],\n",
       "       [0.36771854, 0.63228146],\n",
       "       [0.39518296, 0.60481704],\n",
       "       [0.20112473, 0.79887527],\n",
       "       [0.30151662, 0.69848338],\n",
       "       [0.55488974, 0.44511026],\n",
       "       [0.39435621, 0.60564379],\n",
       "       [0.21990901, 0.78009099],\n",
       "       [0.23767062, 0.76232938],\n",
       "       [0.23593316, 0.76406684],\n",
       "       [0.43963208, 0.56036792],\n",
       "       [0.24933521, 0.75066479],\n",
       "       [0.25341577, 0.74658423],\n",
       "       [0.25038227, 0.74961773],\n",
       "       [0.39449771, 0.60550229],\n",
       "       [0.16377989, 0.83622011],\n",
       "       [0.37932526, 0.62067474],\n",
       "       [0.33862842, 0.66137158],\n",
       "       [0.13125484, 0.86874516],\n",
       "       [0.35971279, 0.64028721],\n",
       "       [0.12330908, 0.87669092],\n",
       "       [0.34266566, 0.65733434],\n",
       "       [0.53467582, 0.46532418],\n",
       "       [0.26508142, 0.73491858],\n",
       "       [0.25913759, 0.74086241],\n",
       "       [0.44710232, 0.55289768],\n",
       "       [0.43492635, 0.56507365],\n",
       "       [0.50385939, 0.49614061],\n",
       "       [0.39013047, 0.60986953],\n",
       "       [0.19222916, 0.80777084],\n",
       "       [0.19616594, 0.80383406],\n",
       "       [0.25319679, 0.74680321],\n",
       "       [0.21774013, 0.78225987],\n",
       "       [0.23093445, 0.76906555],\n",
       "       [0.25233024, 0.74766976],\n",
       "       [0.26707037, 0.73292963],\n",
       "       [0.19816302, 0.80183698],\n",
       "       [0.23571143, 0.76428857],\n",
       "       [0.18445473, 0.81554527],\n",
       "       [0.67002449, 0.32997551],\n",
       "       [0.33554236, 0.66445764],\n",
       "       [0.29259812, 0.70740188],\n",
       "       [0.53587323, 0.46412677]])"
      ]
     },
     "execution_count": 107,
     "metadata": {},
     "output_type": "execute_result"
    }
   ],
   "source": [
    "pred_prob = logreg.predict_proba(df_test_x) # print the prediction in probability \n",
    "\n",
    "pred_prob"
   ]
  },
  {
   "cell_type": "code",
   "execution_count": 66,
   "id": "3af62163",
   "metadata": {},
   "outputs": [
    {
     "data": {
      "text/plain": [
       "294"
      ]
     },
     "execution_count": 66,
     "metadata": {},
     "output_type": "execute_result"
    }
   ],
   "source": [
    "len(pred_prob)  # print the length of the pred_prob "
   ]
  },
  {
   "cell_type": "code",
   "execution_count": 67,
   "id": "e8085dad",
   "metadata": {},
   "outputs": [
    {
     "data": {
      "text/plain": [
       "(294, 32)"
      ]
     },
     "execution_count": 67,
     "metadata": {},
     "output_type": "execute_result"
    }
   ],
   "source": [
    "df_test_x.shape  # print the shape of the number of columns and rows"
   ]
  },
  {
   "cell_type": "code",
   "execution_count": 68,
   "id": "85e6be3f",
   "metadata": {},
   "outputs": [],
   "source": [
    "from sklearn.metrics import roc_auc_score\n",
    "\n",
    "from sklearn.metrics import roc_curve\n"
   ]
  },
  {
   "cell_type": "code",
   "execution_count": 69,
   "id": "3da91d08",
   "metadata": {},
   "outputs": [
    {
     "data": {
      "text/plain": [
       "0.5196078431372549"
      ]
     },
     "execution_count": 69,
     "metadata": {},
     "output_type": "execute_result"
    }
   ],
   "source": [
    "roc_auc_score(df_test_y, pred)"
   ]
  },
  {
   "cell_type": "code",
   "execution_count": 70,
   "id": "b5b8f6d1",
   "metadata": {},
   "outputs": [
    {
     "data": {
      "text/plain": [
       "array([0.15879625, 0.02666929, 0.20055068, 0.06816863, 0.04809119,\n",
       "       0.2676347 , 0.13034766, 0.03279228, 0.2282676 , 0.23832999,\n",
       "       0.02376085, 0.06396289, 0.21855242, 0.01604966, 0.23148131,\n",
       "       0.04148062, 0.0783043 , 0.17255605, 0.11832324, 0.24187174,\n",
       "       0.25467529, 0.09615575, 0.20709978, 0.44583451, 0.13731651,\n",
       "       0.14124649, 0.1839025 , 0.31253743, 0.36088121, 0.02669412,\n",
       "       0.21415141, 0.05244504, 0.01552676, 0.11350737, 0.25702306,\n",
       "       0.04230434, 0.07796451, 0.19790845, 0.35648737, 0.02661156,\n",
       "       0.21612559, 0.01178569, 0.06546148, 0.07258667, 0.1265478 ,\n",
       "       0.21039672, 0.29371539, 0.12843248, 0.10987459, 0.10886503,\n",
       "       0.30126707, 0.28164896, 0.05676633, 0.28304213, 0.04194783,\n",
       "       0.04516265, 0.21862472, 0.01429076, 0.25411392, 0.21830106,\n",
       "       0.2180892 , 0.18899744, 0.0633511 , 0.08482323, 0.18142437,\n",
       "       0.03078463, 0.06589647, 0.27941775, 0.09092863, 0.02394928,\n",
       "       0.04640291, 0.13003983, 0.13617861, 0.3201162 , 0.12143935,\n",
       "       0.01667634, 0.08020451, 0.35783705, 0.44718528, 0.11140571,\n",
       "       0.18052498, 0.17148917, 0.21630181, 0.08950799, 0.02450988,\n",
       "       0.05597303, 0.23470324, 0.29743893, 0.10896547, 0.4323168 ,\n",
       "       0.04791899, 0.03024445, 0.41119652, 0.06442422, 0.21785292,\n",
       "       0.17937565, 0.26918819, 0.08289269, 0.01888849, 0.0439053 ,\n",
       "       0.2822777 , 0.40484133, 0.20440461, 0.13178273, 0.02543499,\n",
       "       0.50401179, 0.03676333, 0.09075119, 0.30607931, 0.1203864 ,\n",
       "       0.06155138, 0.06043498, 0.1281218 , 0.10612387, 0.11511212,\n",
       "       0.09110407, 0.27432093, 0.28741302, 0.22501459, 0.27552462,\n",
       "       0.1455378 , 0.14885554, 0.47043724, 0.24627529, 0.25679747,\n",
       "       0.36234915, 0.29065795, 0.15156649, 0.0739676 , 0.25569524,\n",
       "       0.32056923, 0.01203589, 0.27651474, 0.15544967, 0.29522031,\n",
       "       0.14314514, 0.08187112, 0.22268209, 0.08243211, 0.09328075,\n",
       "       0.1196589 , 0.07748793, 0.09565159, 0.25928572, 0.20392221,\n",
       "       0.2134441 , 0.07757825, 0.12021401, 0.26036775, 0.06352889,\n",
       "       0.37767451, 0.21210863, 0.28125025, 0.14722867, 0.2060764 ,\n",
       "       0.21443164, 0.02545402, 0.11513108, 0.05149652, 0.29513585,\n",
       "       0.11123352, 0.09896715, 0.11695463, 0.02289889, 0.08817865,\n",
       "       0.43257975, 0.06568844, 0.06284079, 0.09325118, 0.1329311 ,\n",
       "       0.14941583, 0.10318748, 0.09899518, 0.19660399, 0.40430834,\n",
       "       0.07416625, 0.04303317, 0.2291751 , 0.07536079, 0.1287851 ,\n",
       "       0.40756206, 0.1741218 , 0.01562248, 0.1381236 , 0.21968641,\n",
       "       0.08626402, 0.11941532, 0.06213175, 0.07574623, 0.18249579,\n",
       "       0.1558339 , 0.1850053 , 0.10049858, 0.29534642, 0.11707659,\n",
       "       0.09693733, 0.05653446, 0.22130777, 0.19166752, 0.25899611,\n",
       "       0.10987311, 0.05214424, 0.12929053, 0.29285776, 0.07868087,\n",
       "       0.09541169, 0.29200142, 0.19269787, 0.14163865, 0.01969449,\n",
       "       0.22489912, 0.21774002, 0.11699385, 0.03237112, 0.31635407,\n",
       "       0.01872999, 0.16195548, 0.38793435, 0.14302077, 0.18751563,\n",
       "       0.27491617, 0.03245022, 0.11225864, 0.12697047, 0.11712897,\n",
       "       0.12016798, 0.29424502, 0.14108948, 0.08163562, 0.18010189,\n",
       "       0.26373773, 0.06246359, 0.40517261, 0.34947413, 0.2233326 ,\n",
       "       0.16236187, 0.44724759, 0.33758877, 0.09935308, 0.11949556,\n",
       "       0.28361863, 0.00489169, 0.24653216, 0.38658937, 0.08778546,\n",
       "       0.16589259, 0.12118415, 0.14075883, 0.0408896 , 0.08607396,\n",
       "       0.40527358, 0.0657676 , 0.08514243, 0.22975581, 0.14540379,\n",
       "       0.22195436, 0.04746338, 0.03082821, 0.14093206, 0.19653253,\n",
       "       0.1833726 , 0.10485431, 0.09126941, 0.30746491, 0.1983493 ,\n",
       "       0.06450769, 0.36963975, 0.1006986 , 0.13213455, 0.24876269,\n",
       "       0.05659477, 0.51285857, 0.25330917, 0.09749467, 0.0676657 ,\n",
       "       0.28162038, 0.05932506, 0.11033977, 0.04814149, 0.11215294,\n",
       "       0.2955085 , 0.2969476 , 0.18638653, 0.11890829, 0.25574595,\n",
       "       0.20295764, 0.19575593, 0.30376555, 0.19543799, 0.36441328,\n",
       "       0.0192035 , 0.2186622 , 0.14166158, 0.08658353])"
      ]
     },
     "execution_count": 70,
     "metadata": {},
     "output_type": "execute_result"
    }
   ],
   "source": [
    "    pred_prob = logreg.predict_proba(df_test_x)\n",
    "\n",
    "    pred_prob[:, 1]    #print the class 1 probability"
   ]
  },
  {
   "cell_type": "code",
   "execution_count": 71,
   "id": "bfe5ef98",
   "metadata": {},
   "outputs": [],
   "source": [
    "# plot the curve\n",
    "fpr, tpr, thresh = roc_curve(df_test_y, pred_prob[:, 1])  "
   ]
  },
  {
   "cell_type": "code",
   "execution_count": 72,
   "id": "d4520c44",
   "metadata": {},
   "outputs": [],
   "source": [
    "import matplotlib.pyplot as plt"
   ]
  },
  {
   "cell_type": "code",
   "execution_count": 73,
   "id": "8970858c",
   "metadata": {},
   "outputs": [
    {
     "data": {
      "text/plain": [
       "0.52"
      ]
     },
     "execution_count": 73,
     "metadata": {},
     "output_type": "execute_result"
    }
   ],
   "source": [
    "area = roc_auc_score(df_test_y, pred)\n",
    "area = round(area, 3)\n",
    "area     "
   ]
  },
  {
   "cell_type": "code",
   "execution_count": 74,
   "id": "1b3b6047",
   "metadata": {},
   "outputs": [
    {
     "data": {
      "text/plain": [
       "Text(0.5, 0.4, '0.52')"
      ]
     },
     "execution_count": 74,
     "metadata": {},
     "output_type": "execute_result"
    },
    {
     "data": {
      "image/png": "[encoded data removed]",
      "text/plain": [
       "<Figure size 432x288 with 1 Axes>"
      ]
     },
     "metadata": {
      "needs_background": "light"
     },
     "output_type": "display_data"
    }
   ],
   "source": [
    "plt.plot(fpr, tpr)\n",
    "plt.xlabel(\"fpr\")\n",
    "plt.ylabel(\"tpr\")\n",
    "plt.title(\"AUROC plot on Attrition Data\")\n",
    "plt.grid()\n",
    "plt.text(x = .5, y =.5, s = \"Area under curve\")\n",
    "plt.text(x = .5, y =.4, s = area, size =15)"
   ]
  },
  {
   "cell_type": "markdown",
   "id": "9a0cbb57",
   "metadata": {},
   "source": [
    "### In general, an AUC of 0.5 suggests no discrimination (i.e., ability to diagnose with and without the or condition based on the test). \n",
    "### 0.7 to 0.8 is considered acceptable, 0.8 to 0.9 is considered excellent.\n",
    "### and more than 0.9 is considered outstanding."
   ]
  },
  {
   "cell_type": "markdown",
   "id": "85c30e42",
   "metadata": {},
   "source": [
    " "
   ]
  },
  {
   "cell_type": "code",
   "execution_count": 75,
   "id": "7d518406",
   "metadata": {},
   "outputs": [],
   "source": [
    "pred_prob_full = logreg.predict_proba(df.iloc[: , 0: -1]) # considering the records with the indexing "
   ]
  },
  {
   "cell_type": "code",
   "execution_count": 76,
   "id": "ecac2172",
   "metadata": {},
   "outputs": [],
   "source": [
    "pred_prob_full = pd.DataFrame(pred_prob_full)  # converting into the dataframe"
   ]
  },
  {
   "cell_type": "code",
   "execution_count": 77,
   "id": "d0cdbe11",
   "metadata": {},
   "outputs": [],
   "source": [
    "# remaning the columns names to be able to read and understand better.\n",
    "\n",
    "pred_prob_full = pred_prob_full.rename(columns = {pred_prob_full.columns[0] : \"PredProbe0\",\n",
    "                                                 pred_prob_full.columns[1] : \"PredProb1\"})"
   ]
  },
  {
   "cell_type": "code",
   "execution_count": 79,
   "id": "48514199",
   "metadata": {},
   "outputs": [],
   "source": [
    "# sorting value in sceding to show highest probability at the first\n",
    "\n",
    "pred_prob_full = pred_prob_full.sort_values(\"PredProb1\", ascending = False)"
   ]
  },
  {
   "cell_type": "code",
   "execution_count": 80,
   "id": "d2a48e82",
   "metadata": {},
   "outputs": [],
   "source": [
    "pred_prob_full = pred_prob_full.iloc[: ,[0,1]]  # printing by the indexing "
   ]
  },
  {
   "cell_type": "code",
   "execution_count": 81,
   "id": "5f8266b6",
   "metadata": {},
   "outputs": [
    {
     "data": {
      "text/html": [
       "<div>\n",
       "<style scoped>\n",
       "    .dataframe tbody tr th:only-of-type {\n",
       "        vertical-align: middle;\n",
       "    }\n",
       "\n",
       "    .dataframe tbody tr th {\n",
       "        vertical-align: top;\n",
       "    }\n",
       "\n",
       "    .dataframe thead th {\n",
       "        text-align: right;\n",
       "    }\n",
       "</style>\n",
       "<table border=\"1\" class=\"dataframe\">\n",
       "  <thead>\n",
       "    <tr style=\"text-align: right;\">\n",
       "      <th></th>\n",
       "      <th>PredProbe0</th>\n",
       "      <th>PredProb1</th>\n",
       "    </tr>\n",
       "  </thead>\n",
       "  <tbody>\n",
       "    <tr>\n",
       "      <th>688</th>\n",
       "      <td>0.377745</td>\n",
       "      <td>0.622255</td>\n",
       "    </tr>\n",
       "    <tr>\n",
       "      <th>909</th>\n",
       "      <td>0.427457</td>\n",
       "      <td>0.572543</td>\n",
       "    </tr>\n",
       "    <tr>\n",
       "      <th>127</th>\n",
       "      <td>0.430956</td>\n",
       "      <td>0.569044</td>\n",
       "    </tr>\n",
       "    <tr>\n",
       "      <th>1271</th>\n",
       "      <td>0.445405</td>\n",
       "      <td>0.554595</td>\n",
       "    </tr>\n",
       "    <tr>\n",
       "      <th>911</th>\n",
       "      <td>0.449119</td>\n",
       "      <td>0.550881</td>\n",
       "    </tr>\n",
       "    <tr>\n",
       "      <th>...</th>\n",
       "      <td>...</td>\n",
       "      <td>...</td>\n",
       "    </tr>\n",
       "    <tr>\n",
       "      <th>561</th>\n",
       "      <td>0.993785</td>\n",
       "      <td>0.006215</td>\n",
       "    </tr>\n",
       "    <tr>\n",
       "      <th>1116</th>\n",
       "      <td>0.993877</td>\n",
       "      <td>0.006123</td>\n",
       "    </tr>\n",
       "    <tr>\n",
       "      <th>417</th>\n",
       "      <td>0.995108</td>\n",
       "      <td>0.004892</td>\n",
       "    </tr>\n",
       "    <tr>\n",
       "      <th>190</th>\n",
       "      <td>0.995613</td>\n",
       "      <td>0.004387</td>\n",
       "    </tr>\n",
       "    <tr>\n",
       "      <th>270</th>\n",
       "      <td>0.996281</td>\n",
       "      <td>0.003719</td>\n",
       "    </tr>\n",
       "  </tbody>\n",
       "</table>\n",
       "<p>1470 rows × 2 columns</p>\n",
       "</div>"
      ],
      "text/plain": [
       "      PredProbe0  PredProb1\n",
       "688     0.377745   0.622255\n",
       "909     0.427457   0.572543\n",
       "127     0.430956   0.569044\n",
       "1271    0.445405   0.554595\n",
       "911     0.449119   0.550881\n",
       "...          ...        ...\n",
       "561     0.993785   0.006215\n",
       "1116    0.993877   0.006123\n",
       "417     0.995108   0.004892\n",
       "190     0.995613   0.004387\n",
       "270     0.996281   0.003719\n",
       "\n",
       "[1470 rows x 2 columns]"
      ]
     },
     "execution_count": 81,
     "metadata": {},
     "output_type": "execute_result"
    }
   ],
   "source": [
    "pred_prob_full    # printing the results."
   ]
  }
 ],
 "metadata": {
  "kernelspec": {
   "display_name": "Python 3 (ipykernel)",
   "language": "python",
   "name": "python3"
  },
  "language_info": {
   "codemirror_mode": {
    "name": "ipython",
    "version": 3
   },
   "file_extension": ".py",
   "mimetype": "text/x-python",
   "name": "python",
   "nbconvert_exporter": "python",
   "pygments_lexer": "ipython3",
   "version": "3.9.12"
  }
 },
 "nbformat": 4,
 "nbformat_minor": 5
}
